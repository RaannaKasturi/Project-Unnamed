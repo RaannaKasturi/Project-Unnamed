{
 "cells": [
  {
   "cell_type": "code",
   "execution_count": 29,
   "metadata": {},
   "outputs": [],
   "source": [
    "from llama_cpp import Llama\n",
    "from langchain.text_splitter import RecursiveCharacterTextSplitter\n",
    "from langchain_community.document_loaders import PyPDFLoader"
   ]
  },
  {
   "cell_type": "code",
   "execution_count": null,
   "metadata": {},
   "outputs": [],
   "source": [
    "llm = Llama(\n",
    "    model_path=\"DISLab.SummLlama3.2-3B.Q6_K.gguf\",\n",
    "    # n_gpu_layers = 40,\n",
    "    n_ctx=100000,\n",
    "    n_batch=1024,\n",
    "    # main_gpu=0\n",
    ")"
   ]
  },
  {
   "cell_type": "code",
   "execution_count": 30,
   "metadata": {},
   "outputs": [],
   "source": [
    "loader = PyPDFLoader(\"sample.pdf\")\n",
    "pages = loader.load_and_split()\n",
    "text_splitter = RecursiveCharacterTextSplitter(chunk_size=250, chunk_overlap=50)\n",
    "texts = text_splitter.split_documents(pages)\n",
    "final_text = \"\"\n",
    "for text in texts:\n",
    "    if text.page_content.startswith(\"REFERENCES\"):\n",
    "        break\n",
    "    else:\n",
    "        final_text = final_text + text.page_content\n",
    "research_paper = \"\"\n",
    "for text in final_text:\n",
    "    if text.startswith((\"REFERENCES\", \"REFERENCESREFERENCES\", \"REFERENCESREFERENCESREFERENCES\")):\n",
    "        break\n",
    "    else:\n",
    "        research_paper = research_paper + text"
   ]
  },
  {
   "cell_type": "code",
   "execution_count": null,
   "metadata": {},
   "outputs": [],
   "source": [
    "response = llm.create_chat_completion(\n",
    "    messages = [\n",
    "        {'role':'system',\n",
    "         'content': 'You are a helpful research assistant for generating summary of research papers in about 200-250 words. The output must be in MarkDown format.'},\n",
    "        {'role':'user',\n",
    "        'content': research_paper}\n",
    "    ],\n",
    "    temperature=0.8,\n",
    "    top_k=500,\n",
    "    top_p=3.0,\n",
    "    presence_penalty = 1.0,\n",
    "    frequency_penalty = 1.1,\n",
    "    repeat_penalty=5.0,\n",
    ")\n",
    "mindmap_data = response['choices'][0]['message']['content']\n",
    "print(mindmap_data)"
   ]
  }
 ],
 "metadata": {
  "kernelspec": {
   "display_name": "Python 3",
   "language": "python",
   "name": "python3"
  },
  "language_info": {
   "codemirror_mode": {
    "name": "ipython",
    "version": 3
   },
   "file_extension": ".py",
   "mimetype": "text/x-python",
   "name": "python",
   "nbconvert_exporter": "python",
   "pygments_lexer": "ipython3",
   "version": "3.10.12"
  }
 },
 "nbformat": 4,
 "nbformat_minor": 2
}
